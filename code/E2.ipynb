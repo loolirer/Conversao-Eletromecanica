{
 "cells": [
  {
   "cell_type": "markdown",
   "metadata": {},
   "source": [
    "<p align = \"center\">\n",
    "<img src = '../docs/logo.png' height = \"250\">\n",
    "</p>\n",
    "\n",
    "# Trabalho - Conversão Eletromecânica\n",
    "\n",
    "\n",
    "**Alunos:**\n",
    "- André Vitor Cadena de Oliveira\n",
    "- Fábio Augusto Almeida Marçal\n",
    "- Gabriel Nazário Gonçalves\n",
    "- Lorenzo Carrera de Oliveira\n",
    "- Mateus Pincho de Oliveira\n",
    "\n",
    "---"
   ]
  },
  {
   "cell_type": "markdown",
   "metadata": {},
   "source": [
    "# Exercício 02\n",
    "\n",
    "Considere o circuito magnético a seguir: \n",
    "\n",
    "<p align = \"center\">\n",
    "<img src = '../docs/circuito_bobina.png' height = \"350\">\n",
    "</p>\n",
    "\n",
    "---"
   ]
  },
  {
   "cell_type": "code",
   "execution_count": 1,
   "metadata": {},
   "outputs": [],
   "source": [
    "# Importando módulos...\n",
    "import numpy as np\n",
    "import matplotlib.pyplot as plt\n",
    "import scipy as sp\n",
    "from scipy.misc import derivative\n",
    "from scipy.interpolate import CubicSpline, interp1d # Interpolação spline\n",
    "from scipy import integrate\n",
    "\n",
    "# Lidando com os warnings dos plots\n",
    "import warnings\n",
    "warnings.filterwarnings('ignore')"
   ]
  },
  {
   "cell_type": "markdown",
   "metadata": {},
   "source": [
    "## Importando dados da questão\n",
    "---"
   ]
  },
  {
   "cell_type": "code",
   "execution_count": null,
   "metadata": {},
   "outputs": [],
   "source": [
    "# Pontos fornecidos na tabela da página\n",
    "H = np.array([0, 68, 135, 203, 271, 338, 406, 474, 542, 609, 1100, 1500, 2500, 4000, 5000, 9000, 12000, 20000, 25000])  # Valores de H\n",
    "B = np.array([0, 0.733, 1.205, 1.424, 1.517, 1.56, 1.588, 1.617, 1.631, 1.646, 1.689, 1.703, 1.724, 1.731, 1.738, 1.761, 1.770, 1.8, 1.816])  # Valores de B\n",
    "\n",
    "r = 6.3e-2         # Raio do rotor\n",
    "D = 8e-2           # Comprimento do sistema\n",
    "n = 90             # Número de espiras\n",
    "lf = 75e-2         # (O que ser lf? Caminho do ferro? )\n",
    "g = 2*0.45e-3      # Comprimento do entreferro\n",
    "u0 = 4*np.pi*1e-7  # Constante"
   ]
  },
  {
   "cell_type": "markdown",
   "metadata": {},
   "source": [
    "## Observações: \n",
    "\n",
    "1. Considere que exista um sensor de posição, de modo que a posição do rotor é sempre conhecida pelo sistema que controla a corrente dos enrolamentos;\n",
    "\n",
    "2. Considere que a velocidade com a qual o sistema opera é suficientemente lenta de modo que o tempo necessário para a corrente sair de 0 até seu valor máximo pode ser desprezado.\n",
    "\n",
    "3. Considere que o controlador deverá aplicada corrente em apenas uma bobina de cada vez.\n",
    "\n",
    "---\n"
   ]
  },
  {
   "cell_type": "markdown",
   "metadata": {},
   "source": [
    "## Item 01\n",
    "\n",
    "Apresente um gráfico do fluxo concatenado na bobina 1 em função da corrente aplicada nessa bobina considerando a posição do rotor variando da posição -30° até +30 graus. Utilize um passo de 10 graus entre as curvas, de modo que, seu gráfico terá um total de 6 curvas.\n",
    "\n",
    "---"
   ]
  },
  {
   "cell_type": "code",
   "execution_count": null,
   "metadata": {},
   "outputs": [],
   "source": []
  },
  {
   "cell_type": "markdown",
   "metadata": {},
   "source": [
    "## Item 02\n",
    "\n",
    "Determine qual deve ser a corrente aplicada na bobina de modo a obter uma densidade de fluxo de 1,8 T quando o rotor estiver na posição zero graus.\n",
    "\n",
    "---"
   ]
  },
  {
   "cell_type": "code",
   "execution_count": null,
   "metadata": {},
   "outputs": [],
   "source": []
  },
  {
   "cell_type": "markdown",
   "metadata": {},
   "source": [
    "## Item 03 e 04\n",
    "\n",
    "Considerando que a corrente calculada no item anterior é aplicada na bobina 1:\n",
    "\n",
    "- Apresente um gráfico do Torque produzido pela bobina 1 em função da posição do rotor considerando que o núcleo seja ideal;\n",
    "\n",
    "- Apresente um gráfico do Torque produzido pela bobina 1 em função da posição do rotor considerando a característica real do núcleo\n",
    "\n",
    "---"
   ]
  },
  {
   "cell_type": "code",
   "execution_count": null,
   "metadata": {},
   "outputs": [],
   "source": []
  },
  {
   "cell_type": "markdown",
   "metadata": {},
   "source": [
    "## Item 05\n",
    "\n",
    "Deseja-se que o sistema opere com uma velocidade constante de 100 RPM em sentido anti-horário. Descreva como o controlador deverá aplicar corrente nas bobinas de modo a alcançar essa velocidade.\n",
    "\n",
    "---\n"
   ]
  },
  {
   "cell_type": "markdown",
   "metadata": {},
   "source": [
    "## Resposta: \n",
    "\n",
    "---"
   ]
  },
  {
   "cell_type": "markdown",
   "metadata": {},
   "source": [
    "## Item 06 e 07\n",
    "\n",
    "Nessas condições determine a razão entre a potência mecânica desenvolvida pelo motor e a potência necessária para o sistema de acionamento, para quando: \n",
    "\n",
    "- O característica do núcleo é ideal\n",
    "\n",
    "- A característica do núcleo é real"
   ]
  },
  {
   "cell_type": "code",
   "execution_count": null,
   "metadata": {},
   "outputs": [],
   "source": []
  }
 ],
 "metadata": {
  "kernelspec": {
   "display_name": "Python 3",
   "language": "python",
   "name": "python3"
  },
  "language_info": {
   "codemirror_mode": {
    "name": "ipython",
    "version": 3
   },
   "file_extension": ".py",
   "mimetype": "text/x-python",
   "name": "python",
   "nbconvert_exporter": "python",
   "pygments_lexer": "ipython3",
   "version": "3.10.12"
  }
 },
 "nbformat": 4,
 "nbformat_minor": 2
}
