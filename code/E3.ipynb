{
 "cells": [
  {
   "cell_type": "markdown",
   "metadata": {},
   "source": [
    "<p align = \"center\">\n",
    "<img src = '../docs/logo.png' height = \"250\">\n",
    "</p>\n",
    "\n",
    "# Trabalho - Conversão Eletromecânica\n",
    "\n",
    "\n",
    "**Alunos:**\n",
    "- André Vitor Cadena de Oliveira\n",
    "- Fábio Augusto Almeida Marçal\n",
    "- Gabriel Nazário Gonçalves\n",
    "- Lorenzo Carrera de Oliveira\n",
    "- Mateus Pincho de Oliveira\n",
    "\n",
    "---"
   ]
  },
  {
   "cell_type": "markdown",
   "metadata": {},
   "source": [
    "# Exercício 03\n",
    "\n",
    "Considere o circuito magnético a seguir e responda os itens: \n",
    "\n",
    "<p align = \"center\">\n",
    "<img src = '../docs/circuito_ima.png' height = \"250\">\n",
    "</p>\n",
    "\n",
    "---"
   ]
  },
  {
   "cell_type": "code",
   "execution_count": null,
   "metadata": {},
   "outputs": [],
   "source": [
    "# Importando módulos...\n",
    "import numpy as np\n",
    "import matplotlib.pyplot as plt\n",
    "import scipy as sp\n",
    "from scipy.misc import derivative\n",
    "from scipy.interpolate import CubicSpline # Interpolação spline\n",
    "\n",
    "# Lidando com os warnings dos plots\n",
    "import warnings\n",
    "warnings.filterwarnings('ignore')"
   ]
  },
  {
   "cell_type": "markdown",
   "metadata": {},
   "source": [
    "## Importando dados da questão\n",
    "---"
   ]
  },
  {
   "cell_type": "code",
   "execution_count": null,
   "metadata": {},
   "outputs": [],
   "source": [
    "W_ima = 2e-2\n",
    "W_g = 2.5e-2\n",
    "Espessura_D = 3e-2\n",
    "d_ima = 1e-2\n",
    "g = 0.2e-2"
   ]
  },
  {
   "cell_type": "markdown",
   "metadata": {},
   "source": [
    "Considere que o imã pode ser caracterizado pela curva: \n",
    "\n",
    "<p align = \"center\">\n",
    "<img src = '../docs/curva_ima.png' height = \"300\">\n",
    "</p>\n",
    "\n",
    "Observe que são fornecidas duas curvas, que apesar de muito semelhantes, a diferença entre essas curvas é utilizada para a realização de projetos de alta precisão em circunstâncias de variação de temperatura e incidência de campo externo. **Para este exercício, considere apenas a curva normal.**\n",
    "\n",
    "---"
   ]
  },
  {
   "cell_type": "markdown",
   "metadata": {},
   "source": [
    "## Item 01\n",
    "Apresente um gráfico para a força magnética que surge no elemento móvel nas condições a seguir\n",
    "\n",
    "- Uma aproximação linear na forma $B_m = \\mu_R(H_m - H_c)$\n",
    "- Curva $B\\times H$ fornecida para o imã"
   ]
  },
  {
   "cell_type": "code",
   "execution_count": null,
   "metadata": {},
   "outputs": [],
   "source": []
  },
  {
   "cell_type": "markdown",
   "metadata": {},
   "source": [
    "--- \n",
    "\n",
    "## Item 02\n",
    "\n",
    "Considerando que é acrescentado uma bobina de 1500 espiras ao sistema: \n",
    "\n",
    "- Para um elemento móvel na posição $x = \\frac{W_g}{2}$, apresente um gráfico da Densidade de Fluxo $B$ no entreferro em função da corrente aplicada na bobina"
   ]
  },
  {
   "cell_type": "code",
   "execution_count": null,
   "metadata": {},
   "outputs": [],
   "source": []
  },
  {
   "cell_type": "markdown",
   "metadata": {},
   "source": [
    "--- \n",
    "## Item 03\n",
    "\n",
    "- Considere que é aplicada na bobina uma corrente constante tal que,\n",
    "para o corpo na posição $x = \\frac{W_g}{2}$, o sistema esteja no ponto de\n",
    "operação normal indicado pelo fabricante do imã. \n",
    "\n",
    "Nessas condições,\n",
    "apresente um gráfico para a força magnética em função da posição $x$"
   ]
  },
  {
   "cell_type": "code",
   "execution_count": null,
   "metadata": {},
   "outputs": [],
   "source": []
  }
 ],
 "metadata": {
  "language_info": {
   "name": "python"
  }
 },
 "nbformat": 4,
 "nbformat_minor": 2
}
